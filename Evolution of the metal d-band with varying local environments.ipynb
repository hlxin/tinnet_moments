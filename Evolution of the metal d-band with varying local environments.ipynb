{
 "cells": [
  {
   "cell_type": "markdown",
   "metadata": {},
   "source": [
    "### Load python libraries"
   ]
  },
  {
   "cell_type": "code",
   "execution_count": 3,
   "metadata": {},
   "outputs": [],
   "source": [
    "import pandas as pd\n",
    "import numpy as np\n",
    "from ase.io.trajectory import Trajectory\n",
    "from ase.visualize import view\n",
    "import matplotlib.pyplot as plt\n",
    "from pylab import *\n",
    "from ase import io\n",
    "from scipy import integrate\n",
    "from scipy import interpolate\n",
    "import waterfall_chart\n",
    "import random\n",
    "from scipy.stats import norm\n",
    "import pickle\n",
    "from ase.db import connect\n",
    "#import shap"
   ]
  },
  {
   "cell_type": "markdown",
   "metadata": {},
   "source": [
    "### Plot d-PDOS of Pt1Ag SAAs with various facets"
   ]
  },
  {
   "cell_type": "code",
   "execution_count": 4,
   "metadata": {},
   "outputs": [
    {
     "data": {
      "text/plain": [
       "<matplotlib.collections.PolyCollection at 0x11cf7bef0>"
      ]
     },
     "execution_count": 4,
     "metadata": {},
     "output_type": "execute_result"
    },
    {
     "data": {
      "image/png": "[encoded data removed]",
      "text/plain": [
       "<Figure size 274.992x314.276 with 1 Axes>"
      ]
     },
     "metadata": {
      "needs_background": "light"
     },
     "output_type": "display_data"
    }
   ],
   "source": [
    "energ = np.linspace(-15,15,3001)\n",
    "dos_111 = np.loadtxt('Data/dos_111.txt')\n",
    "dos_100 = np.loadtxt('Data/dos_100.txt')\n",
    "dos_211 = np.loadtxt('Data/dos_211.txt')\n",
    "dos_210 = np.loadtxt('Data/dos_210.txt')\n",
    "\n",
    "symbols = ['s','o','^','v','<','>','+','x','D','d'] # Symbol\n",
    "lps = [k+'-' for k in ['o','^','v','<','>','s','+','x','D','d']] # Line + Symbol\n",
    "colors= ['b','r','g','c','m','y','k','w'] # Color\n",
    "ms = 4\n",
    "ew = 1.5\n",
    "rcParams['figure.figsize'] = 3.5*1.5*1.67323/2.3,4.0*1.5*1.67323/2.3\n",
    "rcParams['ps.useafm'] = True\n",
    "plt.rc('font',**{'family':'sans-serif','sans-serif':['Helvetica']})\n",
    "mpl.rcParams['axes.linewidth'] = 1\n",
    "\n",
    "rcParams['pdf.fonttype'] = 42\n",
    "matplotlib.rc('xtick.major', size=6)\n",
    "matplotlib.rc('xtick.minor', size=3)\n",
    "matplotlib.rc('ytick.major', size=6)\n",
    "matplotlib.rc('ytick.minor', size=3)\n",
    "matplotlib.rc('lines', markeredgewidth=0.5*2)\n",
    "matplotlib.rc('font', size=7*2.0)\n",
    "\n",
    "fig, ax1 = plt.subplots()\n",
    "\n",
    "dd = 1.2\n",
    "\n",
    "plt.plot(energ,dos_111+3*dd,color='dodgerblue', linewidth = 2,label = '111',alpha=0.75)\n",
    "plt.plot(energ,dos_100+2*dd,color='dodgerblue', linewidth = 2,label = '100',alpha=0.75)\n",
    "plt.plot(energ,dos_211+dd,color='dodgerblue', linewidth = 2,label = '211',alpha=0.75)\n",
    "plt.plot(energ,dos_210,color='dodgerblue', linewidth = 2,label = '210',alpha=0.75)\n",
    "\n",
    "\n",
    "plt.xlabel(r'$\\rm E - E_F$ (eV)')\n",
    "plt.ylabel('DOS (arb. unit)')\n",
    "plt.minorticks_on()\n",
    "#plt.tick_params(axis=\"y\",direction=\"in\",which='both')\n",
    "plt.tick_params(axis=\"x\",direction=\"in\",which='both')\n",
    "#plt.legend(ncol=1,loc = 'upper left',frameon=False,prop={'size': 11})\n",
    "plt.xlim([-5.5,0.3])\n",
    "#plt.ylim([0,1.9])\n",
    "plt.xticks([-5,-4,-3,-2,-1,0])\n",
    "plt.yticks([])\n",
    "\n",
    "plt.fill_between(energ,0,dos_210,where = energ<0,color='gray',alpha=0.2,linewidth=0.0)\n",
    "plt.fill_between(energ,dd,dos_211+dd,where = energ<0,color='gray',alpha=0.2,linewidth=0.0)\n",
    "plt.fill_between(energ,2*dd,dos_100+2*dd,where = energ<0,color='gray',alpha=0.2,linewidth=0.0)\n",
    "plt.fill_between(energ,3*dd,dos_111+3*dd,where = energ<0,color='gray',alpha=0.2,linewidth=0.0)\n",
    "\n",
    "#plt.savefig('Pt1Ag_CN.png', format='png',transparent = True,dpi=600,bbox_inches='tight')"
   ]
  },
  {
   "cell_type": "markdown",
   "metadata": {},
   "source": [
    "### Calculate d-moments from d-PDOS"
   ]
  },
  {
   "cell_type": "code",
   "execution_count": null,
   "metadata": {},
   "outputs": [],
   "source": [
    "def get_center(dos_d, ergy):\n",
    "    upp = np.max((np.argsort(np.abs(integrate.cumtrapz(dos_d,ergy)-0.95))[0],2001))\n",
    "    nstates = integrate.cumtrapz(dos_d[:upp], ergy[:upp])[-1]\n",
    "    d_cen = integrate.cumtrapz(ergy[:upp] * dos_d[:upp], ergy[:upp])[-1] / nstates\n",
    "    return d_cen\n",
    "def get_moment(dos_d, ergy, n):\n",
    "    upp = np.max((np.argsort(np.abs(integrate.cumtrapz(dos_d,ergy)-0.95))[0],2001))\n",
    "    nstates = integrate.cumtrapz(dos_d[:upp], ergy[:upp])[-1]\n",
    "    d_cen = integrate.cumtrapz(ergy[:upp] * dos_d[:upp], ergy[:upp])[-1] / nstates\n",
    "    mn = integrate.cumtrapz((ergy[:upp]-d_cen)**n * dos_d[:upp], ergy[:upp])[-1] / nstates\n",
    "    return mn"
   ]
  },
  {
   "cell_type": "markdown",
   "metadata": {},
   "source": [
    "### Plot d-PDOS of dimer SAA Pt1M1Ag with various dopant metal M"
   ]
  },
  {
   "cell_type": "code",
   "execution_count": null,
   "metadata": {},
   "outputs": [],
   "source": [
    "symbols = ['s','o','^','v','<','>','+','x','D','d'] # Symbol\n",
    "lps = [k+'-' for k in ['o','^','v','<','>','s','+','x','D','d']] # Line + Symbol\n",
    "colors= ['b','r','g','c','m','y','k','w'] # Color\n",
    "ms = 4\n",
    "ew = 1.5\n",
    "rcParams['figure.figsize'] = 3.5*1.5*1.67323/2.3,4.0*1.5*1.67323/2.3\n",
    "rcParams['ps.useafm'] = True\n",
    "plt.rc('font',**{'family':'sans-serif','sans-serif':['Helvetica']})\n",
    "mpl.rcParams['axes.linewidth'] = 1\n",
    "\n",
    "rcParams['pdf.fonttype'] = 42\n",
    "matplotlib.rc('xtick.major', size=6)\n",
    "matplotlib.rc('xtick.minor', size=3)\n",
    "matplotlib.rc('ytick.major', size=6)\n",
    "matplotlib.rc('ytick.minor', size=3)\n",
    "matplotlib.rc('lines', markeredgewidth=0.5*2)\n",
    "matplotlib.rc('font', size=9*2.0)\n",
    "\n",
    "fig, ax = plt.subplots()\n",
    "\n",
    "#For example, we plot DOS of Pt1Os1Ag:\n",
    "X = np.loadtxt('Data/dos_Os.txt')\n",
    "y = energ\n",
    "\n",
    "plt.plot(X+0.1,y,color='lightcoral',linewidth=3)\n",
    "#plt.ylim([-2.8,0.3])\n",
    "plt.ylim([-7,1.5])\n",
    "plt.xlim([0,1.25])\n",
    "plt.xticks([])\n",
    "plt.yticks([])\n",
    "#plt.yticks([-2.5,-2,-1.5,-1,-0.5,0])\n",
    "plt.yticks([-6,-4.5,-3,-1.5,0,1.5])\n",
    "\n",
    "plt.fill_between(X+0.1,y,0,where = y<0,color='gray',alpha=0.2,linewidth=0.0)\n",
    "\n",
    "\n",
    "ax.spines['top'].set_visible(False)\n",
    "ax.spines['bottom'].set_visible(False)\n",
    "#ax.spines['left'].set_visible(False)\n",
    "ax.spines['right'].set_visible(False)\n",
    "\n",
    "#plt.savefig('axis.png', format='png',transparent = True,dpi=300,bbox_inches='tight')"
   ]
  },
  {
   "cell_type": "code",
   "execution_count": null,
   "metadata": {},
   "outputs": [],
   "source": []
  }
 ],
 "metadata": {
  "kernelspec": {
   "display_name": "Python 3",
   "language": "python",
   "name": "python3"
  },
  "language_info": {
   "codemirror_mode": {
    "name": "ipython",
    "version": 3
   },
   "file_extension": ".py",
   "mimetype": "text/x-python",
   "name": "python",
   "nbconvert_exporter": "python",
   "pygments_lexer": "ipython3",
   "version": "3.7.3"
  }
 },
 "nbformat": 4,
 "nbformat_minor": 2
}
